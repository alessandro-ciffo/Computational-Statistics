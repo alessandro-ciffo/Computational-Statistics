{
 "cells": [
  {
   "cell_type": "markdown",
   "metadata": {},
   "source": [
    "# Importance Sampling\n",
    "\n",
    "Importance Sampling is a Monte Carlo technique used to estimate some properties (e.g. the mean or variance) of a target distribution. The main advantage of this technique is that we can estimate such properties of the target distribution without having to sample from that distribution. \n",
    "\n",
    "The idea behind Importance Sampling is simple. Let $f(x)$ be the density function of a *target distribution* and $g(x)$ be the density function of a *proposal distribution* from which we know how to sample from. We can compute the expected value of any function $h(x)$ using the following result:\n",
    "\n",
    "$$\\mu = \\mathbb{E}_f(h(x)) = \\int{h(x)f(x)dx} = \\int{h(x)\\frac{f(x)}{g(x)}g(x)dx} = \\mathbb{E}_g(h(x)\\frac{f(x)}{g(x)})$$\n",
    "\n",
    "Therefore, we are taking expectations with respect to $g(x)$ rather than $f(x)$. We may want to do this in situations in which it is hard or we don't know how to sample from the target distribution. \n",
    "\n",
    "Then, if the support of $g(x)$ includes that of $f(x)$, given a random sample $(X_1,...,X_n)$ from $g(x)$, we can approximate the mean using the sample mean:\n",
    "\n",
    "$$\\mu_{IS} = \\frac{1}{n} \\sum_{i=1}^n h(x_i)\\frac{f(x_i)}{g(x_i)}$$\n",
    "\n",
    "Therefore, the algorithm goes as follows:\n",
    "1. Draw a sample of size n from $g(x)$\n",
    "2. Estimate the expected value of a function $h(x)$ as the sample mean of $h(x)$ times the unstandardized importance weights $\\frac{f(x)}{g(x)}$"
   ]
  },
  {
   "cell_type": "markdown",
   "metadata": {},
   "source": [
    "### Example: Mean and Variance of a Beta distribution\n",
    "\n",
    "Let's now apply these concepts to estimate the mean and the variance of a Beta distribution with parameters $a=10$ and $b=3$, using a $Uniform(0,1)$ as proposal distribution."
   ]
  },
  {
   "cell_type": "code",
   "execution_count": 3,
   "metadata": {},
   "outputs": [],
   "source": [
    "import numpy as np\n",
    "import matplotlib.pyplot as plt\n",
    "from math import factorial as fact\n",
    "\n",
    "%matplotlib inline"
   ]
  },
  {
   "cell_type": "code",
   "execution_count": 4,
   "metadata": {},
   "outputs": [
    {
     "data": {
      "image/png": "[encoded data removed]",
      "text/plain": [
       "<matplotlib.figure.Figure at 0x110890518>"
      ]
     },
     "metadata": {},
     "output_type": "display_data"
    }
   ],
   "source": [
    "# Since a and b are positive integers, we can use the factorial definition of the Beta function.\n",
    "def beta(a, b):\n",
    "    return fact(a - 1) * fact(b - 1) / fact(a + b - 1)\n",
    "\n",
    "# The p.d.f. of a Beta distribution is then:\n",
    "def f(x, a, b):\n",
    "    return (1 / beta(a, b)) * x**(a-1) * (1-x)**(b-1)\n",
    "\n",
    "# Plot of the density function of a Beta distribution with a = 10 and b = 3\n",
    "x = np.linspace(0,1,1000)\n",
    "plt.figure();\n",
    "plt.plot(x, f(x, a=10, b=3));\n",
    "plt.xlabel('x')\n",
    "plt.ylabel('f(x)')\n",
    "plt.title('Density function of a Beta distribution (a = 10, b = 3)')\n",
    "plt.grid();"
   ]
  },
  {
   "cell_type": "markdown",
   "metadata": {},
   "source": [
    "Let's now define the function *importance_mean()* which computes the mean of the Beta distribution using IS."
   ]
  },
  {
   "cell_type": "code",
   "execution_count": 13,
   "metadata": {},
   "outputs": [
    {
     "data": {
      "text/plain": [
       "0.7685845090509674"
      ]
     },
     "execution_count": 13,
     "metadata": {},
     "output_type": "execute_result"
    }
   ],
   "source": [
    "def importance_mean(n):\n",
    "    X = np.random.rand(n)   # Generate random sample from g(x)\n",
    "    h = []\n",
    "    for i in range(n):\n",
    "        h.append(X[i] * f(X[i], a=10, b=3))   # Compute product of h(X) and importance weights\n",
    "    \n",
    "    return sum(h) / n\n",
    "\n",
    "importance_mean(100000)"
   ]
  },
  {
   "cell_type": "markdown",
   "metadata": {},
   "source": [
    "Let's compare our results with the mean obtained sampling directly from a $Beta(10,3)$"
   ]
  },
  {
   "cell_type": "code",
   "execution_count": 14,
   "metadata": {},
   "outputs": [
    {
     "data": {
      "text/plain": [
       "0.7694422145572405"
      ]
     },
     "execution_count": 14,
     "metadata": {},
     "output_type": "execute_result"
    }
   ],
   "source": [
    "beta_sample = np.random.beta(10,3,100000)\n",
    "np.mean(beta_sample)"
   ]
  },
  {
   "cell_type": "markdown",
   "metadata": {},
   "source": [
    "We now use Importance Sampling to compute the variance of the distribution."
   ]
  },
  {
   "cell_type": "code",
   "execution_count": 15,
   "metadata": {},
   "outputs": [
    {
     "data": {
      "text/plain": [
       "0.012673515242840827"
      ]
     },
     "execution_count": 15,
     "metadata": {},
     "output_type": "execute_result"
    }
   ],
   "source": [
    "def importance_var(n):\n",
    "    X = np.random.rand(n)\n",
    "    mean = importance_mean(n)\n",
    "    h = []\n",
    "    for i in range(n):\n",
    "        h.append((X[i] - mean)**2 * f(X[i], a=10, b=3))  # h(X) is now (x - mu)^2\n",
    "    \n",
    "    return sum(h) / n\n",
    "\n",
    "importance_var(100000)"
   ]
  },
  {
   "cell_type": "code",
   "execution_count": 16,
   "metadata": {},
   "outputs": [
    {
     "data": {
      "text/plain": [
       "0.012598115727315264"
      ]
     },
     "execution_count": 16,
     "metadata": {},
     "output_type": "execute_result"
    }
   ],
   "source": [
    "np.var(beta_sample)"
   ]
  },
  {
   "cell_type": "markdown",
   "metadata": {},
   "source": [
    "As we can see the approximation is good. In fact, the estimator obtained through Importance Sampling is unbiased and converges almost surely to the true value of the estimator."
   ]
  }
 ],
 "metadata": {
  "kernelspec": {
   "display_name": "Python 3",
   "language": "python",
   "name": "python3"
  },
  "language_info": {
   "codemirror_mode": {
    "name": "ipython",
    "version": 3
   },
   "file_extension": ".py",
   "mimetype": "text/x-python",
   "name": "python",
   "nbconvert_exporter": "python",
   "pygments_lexer": "ipython3",
   "version": "3.6.3"
  }
 },
 "nbformat": 4,
 "nbformat_minor": 4
}
