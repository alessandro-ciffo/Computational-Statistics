{
 "cells": [
  {
   "cell_type": "markdown",
   "metadata": {},
   "source": [
    "# Numerical Integration\n",
    "\n",
    "Numerical Integration is a family of algorithms used to compute the numerical value of definite integrals. \n",
    "\n",
    "In statistics, we are often required to compute the integral of univariate and multivariate functions. However, an analytical closed form solution is not always available, due to the form of the intagrand or the shape of of the domain of integration. In these cases, we resort to numerical integration."
   ]
  },
  {
   "cell_type": "code",
   "execution_count": 2,
   "metadata": {},
   "outputs": [],
   "source": [
    "import numpy as np"
   ]
  },
  {
   "cell_type": "markdown",
   "metadata": {},
   "source": [
    "### The Riemann Rule\n",
    "\n",
    "The Riemann Rule is a very simple method to compute definite integrals in which we divide the integration interval into n equally spaced sub-intervals, and approximate the integral of each sub-interval as the area of a rectangle with length $(x_{i+1} - x_{i})$ and height $f(x_i)$. Finally, to obtain the integral we sum the areas of the sub-intervals."
   ]
  },
  {
   "cell_type": "code",
   "execution_count": 25,
   "metadata": {},
   "outputs": [
    {
     "name": "stdout",
     "output_type": "stream",
     "text": [
      "Closed form solution: 2496.0\n",
      "Riemann rule approximation: 2495.9960320016153\n"
     ]
    }
   ],
   "source": [
    "def f(x):\n",
    "    return x**3\n",
    "\n",
    "def analytical_solution(a, b):\n",
    "    \"\"\"\n",
    "    analytical solution of f(x) used to test numerical integration functions\n",
    "    \"\"\"\n",
    "    return (b**4 / 4) - (a**4 / 4)\n",
    "    \n",
    "def riemann_rule(f, a, b, n):\n",
    "    \"\"\"\n",
    "    :param f: the function for which we want to compute the integral\n",
    "    :param a: integration lower bound\n",
    "    :param b: integration upper bound\n",
    "    :param n: number of equally spaced sub-intervals\n",
    "    \"\"\"\n",
    "    \n",
    "    length = (b - a) / n\n",
    "    subintervals = np.linspace(a, b, n, endpoint=False)\n",
    "    integral = 0\n",
    "    \n",
    "    for x in subintervals:\n",
    "        integral += length * f(x)\n",
    "    \n",
    "    return integral\n",
    "\n",
    "print('Closed form solution:', analytical_solution(2,10))   \n",
    "print('Riemann rule approximation:', riemann_rule(f, 2, 10, 1000000))"
   ]
  },
  {
   "cell_type": "markdown",
   "metadata": {},
   "source": [
    "The approximation provided by the Riemann Rule is good as n increases, but convergence can be very slow. We will now replace the constant approximation of $f(x)$ as a polynomial approximation."
   ]
  },
  {
   "cell_type": "markdown",
   "metadata": {},
   "source": [
    "### Trapezoidal Rule\n",
    "\n",
    "The Trapezoidal rule works again by dividing the integration interval into n equally spaced sub-intervals. but this time we approximate the integral of each sub-interval as the area of a trapezoid, that is as $(x_{i+1} - x_i) / 2 \\cdot (f(x_i) + f(x_{i+1})$. To obtain the integral, we then sum the areas of all the trapezoids."
   ]
  },
  {
   "cell_type": "code",
   "execution_count": 28,
   "metadata": {},
   "outputs": [
    {
     "name": "stdout",
     "output_type": "stream",
     "text": [
      "Closed form solution: 2496.0\n",
      "Trapezoidal rule approximation: 2495.9960320016153\n"
     ]
    }
   ],
   "source": [
    "def trapezoidal_rule(f, a, b, n):\n",
    "    \"\"\"\n",
    "    :param f: the function for which we want to compute the integral\n",
    "    :param a: integration lower bound\n",
    "    :param b: integration upper bound\n",
    "    :param n: number of equally spaced sub-intervals\n",
    "    \"\"\"\n",
    "    \n",
    "    length = (b - a) / n\n",
    "    subintervals = np.linspace(a, b, n + 1)  # this time we use n+1 because we need the upper bound b\n",
    "    integral = 0\n",
    "    \n",
    "    for i in range(n):\n",
    "        integral += length * (f(x[i]) + f(x[i+1])) / 2\n",
    "    \n",
    "    return integral\n",
    "\n",
    "print('Closed form solution:', analytical_solution(2,10))   \n",
    "print('Trapezoidal rule approximation:', riemann_rule(f, 2, 10, 1000000))"
   ]
  },
  {
   "cell_type": "markdown",
   "metadata": {},
   "source": [
    "### Monte Carlo Methods\n",
    "\n",
    "Unlike the previous methods, Monte Carlo integration is a non-deterministic method, meaning that the output is stochastic and not always the same. \n",
    "\n",
    "The idea of Monte Carlo integration is to draw a random sample $(X_1, X_2,...,X_n)$ from a density function $f(x)$, in the interval of integration [a, b]. For each $X_i$ evaluate $f(X_i)$ and multiply the result by $(b-a)$. If we add up the area of the resulting rectangles and average them out, the result is going to get close to the true value of the integral. This is a consequence of the strong law of large numbers."
   ]
  },
  {
   "cell_type": "code",
   "execution_count": 37,
   "metadata": {},
   "outputs": [
    {
     "name": "stdout",
     "output_type": "stream",
     "text": [
      "Closed form solution: 2496.0\n",
      "Monte Carlo approximation: 2498.199307211208\n"
     ]
    }
   ],
   "source": [
    "def monte_carlo(f, a, b, n):\n",
    "    \"\"\"\n",
    "    :param f: the function for which we want to compute the integral\n",
    "    :param a: integration lower bound\n",
    "    :param b: integration upper bound\n",
    "    :param n: size of the random sample of X_i's\n",
    "    \"\"\"\n",
    "    \n",
    "    sample = np.random.uniform(a, b, n) # generate n numbers from a uniform distribution on [a,b]\n",
    "    f_sample = f(sample) # evaluate function at each random point\n",
    "    return np.sum(f_sample * (b - a)) / n\n",
    "\n",
    "\n",
    "print('Closed form solution:', analytical_solution(2,10))   \n",
    "print('Monte Carlo approximation:', monte_carlo(f, 2, 10, 1000000))"
   ]
  },
  {
   "cell_type": "markdown",
   "metadata": {},
   "source": [
    "### References\n",
    "\n",
    "- Notes on Computational Statistics, Rebecca Graziani.\n",
    "- https://en.wikipedia.org/wiki/Numerical_integration\n",
    "- https://en.wikipedia.org/wiki/Monte_Carlo_integration"
   ]
  }
 ],
 "metadata": {
  "kernelspec": {
   "display_name": "Python 3",
   "language": "python",
   "name": "python3"
  },
  "language_info": {
   "codemirror_mode": {
    "name": "ipython",
    "version": 3
   },
   "file_extension": ".py",
   "mimetype": "text/x-python",
   "name": "python",
   "nbconvert_exporter": "python",
   "pygments_lexer": "ipython3",
   "version": "3.6.3"
  }
 },
 "nbformat": 4,
 "nbformat_minor": 4
}
