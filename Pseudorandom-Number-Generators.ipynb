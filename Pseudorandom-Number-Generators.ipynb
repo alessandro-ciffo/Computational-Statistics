{
 "cells": [
  {
   "cell_type": "markdown",
   "metadata": {},
   "source": [
    "# Pseudorandom Number Generators\n",
    "\n",
    "A crucial problem in computational stastistics is how to draw a sample from a given distribution. Theoretically, if we were able to sample from a a Uniform distribution on $(0,1)$ we could sample from others distributions. Therefore a natural question is: \"How can we sample from a Uniform distribution on $(0,1)$?\"\n",
    "\n",
    "For that we need Pseudorandom Number Generators, a class of algorithms used to generate a sequence of numbers whose properties resembles the properties of random numbers. However, the numbers generated cannot be truly random, since computers are deterministic machines and the pseudorandom sequence of numbers entirely depends on an initial value called *seed*.\n",
    "\n"
   ]
  },
  {
   "cell_type": "markdown",
   "metadata": {},
   "source": [
    "### Linear Congruential Generator\n",
    "\n",
    "The first PRNG we will consider is the Linear Congruential Generator, one of the oldest methods to generate sequences of pseudorandom numbers and also one of the easieast to understand and implement.\n",
    "\n",
    "Given a *modulus* $m > 0$, a *multiplier* $a$ such that $0 < a < m$, an *increment* $c$ such that $0 \\leq c < m$ and a *seed* $X_0$ such that $0 \\leq X_0 < m$, the algorithm is defined by the recurrence relation:\n",
    "\n",
    "$$X_{n+1} = (aX_n + c) \\mod m$$\n",
    "\n",
    "The algorithm generates integers between 0 and m. If we want to generate numbers from a *Uniform(0,1)* it is sufficient to divide the output by m."
   ]
  },
  {
   "cell_type": "code",
   "execution_count": 41,
   "metadata": {},
   "outputs": [],
   "source": [
    "import random\n",
    "import matplotlib.pyplot as plt\n",
    "\n",
    "%matplotlib inline"
   ]
  },
  {
   "cell_type": "code",
   "execution_count": 42,
   "metadata": {},
   "outputs": [],
   "source": [
    "def rand_lgc(m, a, c, seed):\n",
    "    while True:\n",
    "        seed = (a * seed + c) % m\n",
    "        yield seed / m"
   ]
  },
  {
   "cell_type": "markdown",
   "metadata": {},
   "source": [
    "The quality of the output is of course very sensitive to the choice of $a$ and $m$. Since a discussion on the choice of these values is out of the scope of this notebook, we will just set for convenience values taken from the series of books *\"Numerical Recipes\", Press et al.\"*. In particular we set:\n",
    "- $m = 2^{32}$\n",
    "- $a = 1664525$\n",
    "- $c = 1013904223$\n",
    "\n",
    "Let's create a sample of uniformly distributed numbers between 0 and 1."
   ]
  },
  {
   "cell_type": "code",
   "execution_count": 48,
   "metadata": {},
   "outputs": [],
   "source": [
    "m = 2**32\n",
    "a = 1664525\n",
    "c = 1013904223\n",
    "seed = 12\n",
    "random.seed(seed)\n",
    "\n",
    "sample = []\n",
    "n = 100000\n",
    "i = 0\n",
    "for number in lcg(m, a, c, seed):\n",
    "    if i == n:\n",
    "        break\n",
    "    sample.append(number)\n",
    "    i += 1"
   ]
  },
  {
   "cell_type": "markdown",
   "metadata": {},
   "source": [
    "Let's compare the output of the Linear Congruential Generator with the output of the random number generator of Python, which implements a version of the Mersenne-Twister algorithm."
   ]
  },
  {
   "cell_type": "code",
   "execution_count": 51,
   "metadata": {},
   "outputs": [
    {
     "data": {
      "image/png": "[encoded data removed]",
      "text/plain": [
       "<matplotlib.figure.Figure at 0x10fa5cb70>"
      ]
     },
     "metadata": {},
     "output_type": "display_data"
    }
   ],
   "source": [
    "fig, ax = plt.subplots(2)\n",
    "\n",
    "ax[0].hist(sample);\n",
    "ax[1].hist([random.random() for i in range(n)], color='orange');"
   ]
  },
  {
   "cell_type": "code",
   "execution_count": 52,
   "metadata": {},
   "outputs": [
    {
     "name": "stdout",
     "output_type": "stream",
     "text": [
      "326 ns ± 3.96 ns per loop (mean ± std. dev. of 7 runs, 1000000 loops each)\n",
      "90.2 ns ± 2.47 ns per loop (mean ± std. dev. of 7 runs, 10000000 loops each)\n"
     ]
    }
   ],
   "source": [
    "%timeit rand_lgc(m, a, c, seed)\n",
    "%timeit random.random()"
   ]
  },
  {
   "cell_type": "markdown",
   "metadata": {},
   "source": [
    "The two samples look similar and they both look uniformly distributed between 0 and 1. However, the Mersenne-Twister algorithm used in Python's standard random lybrary is significantly faster."
   ]
  },
  {
   "cell_type": "markdown",
   "metadata": {},
   "source": [
    "### References\n",
    "\n",
    "- Notes on Computational Statistics, Rebecca Graziani\n",
    "- https://docs.python.org/3/library/random.html\n",
    "- https://en.wikipedia.org/wiki/Linear_congruential_generator\n",
    "- https://statweb.stanford.edu/~owen/mc/Ch-unifrng.pdf"
   ]
  }
 ],
 "metadata": {
  "kernelspec": {
   "display_name": "Python 3",
   "language": "python",
   "name": "python3"
  },
  "language_info": {
   "codemirror_mode": {
    "name": "ipython",
    "version": 3
   },
   "file_extension": ".py",
   "mimetype": "text/x-python",
   "name": "python",
   "nbconvert_exporter": "python",
   "pygments_lexer": "ipython3",
   "version": "3.6.3"
  }
 },
 "nbformat": 4,
 "nbformat_minor": 4
}
