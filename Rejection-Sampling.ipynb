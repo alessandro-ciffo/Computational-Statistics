{
 "cells": [
  {
   "cell_type": "markdown",
   "metadata": {},
   "source": [
    "# Acceptance-Rejection Sampling\n",
    "\n",
    "Acceptance-Rejection Sampling is a technique to generate observations from a certain distribution with p.d.f. $f(x)$ which satisfies:\n",
    "\n",
    "$$f(x) \\leq \\frac{g(x)}{\\alpha}$$\n",
    "\n",
    "where $g(x)$ is the p.d.f. of a proposal distribution for which we know how to sample from and $M$ is a finite bound on the likelihood ratio of the two p.d.f.'s. chosen as:\n",
    "\n",
    "$$M = \\sup_x \\frac{f(x)}{g(x)}$$\n",
    "\n",
    "The intuition behind Rejection Sampling is simple:\n",
    "- Sample a point on the x-axis from a proposal distribution with p.d.f. $g(x)$ that we know how to sample from and which is higher than $f(x)$ at every point.\n",
    "- Draw a vertical line at this x-position, up to the maximum value $g(x)$ of the proposal distribution.\n",
    "- Sample uniformly along this line from 0 to the maximum of the probability density function. If the sampled value is greater than the value of the desired distribution at this vertical line, reject the x-value and return to step 1; else the x-value is a sample from the desired distribution.\n",
    "\n",
    "In practice the algorithm works as follows:\n",
    "1. Draw $Y$ from $g(x)$ and $U$ from a $Uniform(0,1)$.\n",
    "2. If $U \\leq \\frac{f(x)}{M \\cdot g(x)}$, accept the draw and set $X = Y$.\n",
    "3. Else, reject the draw."
   ]
  },
  {
   "cell_type": "markdown",
   "metadata": {},
   "source": [
    "### Example: Sampling from the half positive Standard Normal distribution\n",
    "\n",
    "Let's apply the this technique to sample from the half positive Standard Normal with p.d.f.\n",
    "\n",
    "$$f(x) = \\sqrt{\\frac{2}{\\pi}} \\cdot exp(\\frac{-x^2}{2})$$\n",
    "\n",
    "We will take $g(x)$ equal to an Exponential distribution with $\\lambda = 1$ as a proposal distribution\n",
    "\n",
    "$$g(x) = e^{-x}$$\n",
    "\n",
    "and we set\n",
    "\n",
    "$$M = \\sqrt{\\frac{2e}{\\pi}}$$"
   ]
  },
  {
   "cell_type": "code",
   "execution_count": 4,
   "metadata": {},
   "outputs": [],
   "source": [
    "import numpy as np\n",
    "import matplotlib.pyplot as plt\n",
    "\n",
    "%matplotlib inline"
   ]
  },
  {
   "cell_type": "code",
   "execution_count": 25,
   "metadata": {},
   "outputs": [
    {
     "data": {
      "text/plain": [
       "<matplotlib.legend.Legend at 0x11024fa90>"
      ]
     },
     "execution_count": 25,
     "metadata": {},
     "output_type": "execute_result"
    },
    {
     "data": {
      "image/png": "[encoded data removed]",
      "text/plain": [
       "<matplotlib.figure.Figure at 0x10f8c2080>"
      ]
     },
     "metadata": {},
     "output_type": "display_data"
    }
   ],
   "source": [
    "def f(x):\n",
    "    return np.sqrt(2/np.pi) * np.exp(-x**2/2)\n",
    "\n",
    "def g(x):\n",
    "    return np.exp(-x)\n",
    "\n",
    "x = np.linspace(0,10,1000)\n",
    "\n",
    "plt.plot(x, f(x), label='f(x)')\n",
    "plt.plot(x, g(x), label='g(x)')\n",
    "plt.grid()\n",
    "plt.legend()"
   ]
  },
  {
   "cell_type": "markdown",
   "metadata": {},
   "source": [
    "For $g(x)$ to be a good proposal function we have to multiply it by $M$."
   ]
  },
  {
   "cell_type": "code",
   "execution_count": 26,
   "metadata": {},
   "outputs": [
    {
     "data": {
      "text/plain": [
       "<matplotlib.legend.Legend at 0x110320160>"
      ]
     },
     "execution_count": 26,
     "metadata": {},
     "output_type": "execute_result"
    },
    {
     "data": {
      "image/png": "[encoded data removed]",
      "text/plain": [
       "<matplotlib.figure.Figure at 0x10f7db588>"
      ]
     },
     "metadata": {},
     "output_type": "display_data"
    }
   ],
   "source": [
    "M = np.sqrt(2 * np.e / np.pi)\n",
    "\n",
    "plt.plot(x, f(x), label='f(x)')\n",
    "plt.plot(x, M*g(x), label='g(x)')\n",
    "plt.grid()\n",
    "plt.legend()"
   ]
  },
  {
   "cell_type": "markdown",
   "metadata": {},
   "source": [
    "Now we have a perfect envelope and we are ready to start sampling from the half positive Standard Normal.\n",
    "\n",
    "First we draw a sample from an Exponential distribution."
   ]
  },
  {
   "cell_type": "code",
   "execution_count": 50,
   "metadata": {},
   "outputs": [],
   "source": [
    "def sample(n):\n",
    "    Y = np.random.exponential(size=n)\n",
    "    X = []\n",
    "    \n",
    "    for y in Y:\n",
    "        if np.random.rand() <= np.exp(-0.5*(y - 1)**2):      # We simplify f(x)/M*g(x)\n",
    "            X.append(y)\n",
    "    \n",
    "    return X"
   ]
  },
  {
   "cell_type": "markdown",
   "metadata": {},
   "source": [
    "Let's analyze the results for different values of n"
   ]
  },
  {
   "cell_type": "code",
   "execution_count": 1,
   "metadata": {},
   "outputs": [
    {
     "ename": "NameError",
     "evalue": "name 'sample' is not defined",
     "output_type": "error",
     "traceback": [
      "\u001b[0;31m---------------------------------------------------------------------------\u001b[0m",
      "\u001b[0;31mNameError\u001b[0m                                 Traceback (most recent call last)",
      "\u001b[0;32m<ipython-input-1-b4882f5fe3d3>\u001b[0m in \u001b[0;36m<module>\u001b[0;34m()\u001b[0m\n\u001b[0;32m----> 1\u001b[0;31m \u001b[0mX\u001b[0m \u001b[0;34m=\u001b[0m \u001b[0msample\u001b[0m\u001b[0;34m(\u001b[0m\u001b[0;36m1000\u001b[0m\u001b[0;34m)\u001b[0m\u001b[0;34m\u001b[0m\u001b[0m\n\u001b[0m\u001b[1;32m      2\u001b[0m \u001b[0mplt\u001b[0m\u001b[0;34m.\u001b[0m\u001b[0mtitle\u001b[0m\u001b[0;34m(\u001b[0m\u001b[0;34m'n = 1000'\u001b[0m\u001b[0;34m)\u001b[0m\u001b[0;34m\u001b[0m\u001b[0m\n\u001b[1;32m      3\u001b[0m \u001b[0mplt\u001b[0m\u001b[0;34m.\u001b[0m\u001b[0mhist\u001b[0m\u001b[0;34m(\u001b[0m\u001b[0mX\u001b[0m\u001b[0;34m,\u001b[0m \u001b[0mbins\u001b[0m\u001b[0;34m=\u001b[0m\u001b[0;36m100\u001b[0m\u001b[0;34m)\u001b[0m\u001b[0;34m;\u001b[0m\u001b[0;34m\u001b[0m\u001b[0m\n",
      "\u001b[0;31mNameError\u001b[0m: name 'sample' is not defined"
     ]
    }
   ],
   "source": [
    "X = sample(1000)\n",
    "plt.title('n = 1000')\n",
    "plt.hist(X, bins=100);"
   ]
  },
  {
   "cell_type": "code",
   "execution_count": 52,
   "metadata": {},
   "outputs": [
    {
     "data": {
      "image/png": "[encoded data removed]",
      "text/plain": [
       "<matplotlib.figure.Figure at 0x111a6df28>"
      ]
     },
     "metadata": {},
     "output_type": "display_data"
    }
   ],
   "source": [
    "X = sample(10000)\n",
    "plt.title('n = 10000')\n",
    "plt.hist(X, bins=100);"
   ]
  },
  {
   "cell_type": "code",
   "execution_count": 53,
   "metadata": {},
   "outputs": [
    {
     "data": {
      "image/png": "[encoded data removed]",
      "text/plain": [
       "<matplotlib.figure.Figure at 0x110f2ea20>"
      ]
     },
     "metadata": {},
     "output_type": "display_data"
    }
   ],
   "source": [
    "X = sample(10000)\n",
    "plt.title('n = 10000')\n",
    "plt.hist(X, bins=100);"
   ]
  },
  {
   "cell_type": "markdown",
   "metadata": {},
   "source": [
    "As we can see from the histograms, the sample increasingly resembles a half positive Standard Normal as n increases. In fact, Rejection Sampling is a perfect sampling algorithm, therefore we are sure that the sample obtained comes from the target distribution $f(x)$."
   ]
  },
  {
   "cell_type": "markdown",
   "metadata": {},
   "source": [
    "### References\n",
    "\n",
    "- Notes on Computational Statistics, Rebecca Graziani\n",
    "- https://en.wikipedia.org/wiki/Rejection_sampling"
   ]
  }
 ],
 "metadata": {
  "kernelspec": {
   "display_name": "Python 3",
   "language": "python",
   "name": "python3"
  },
  "language_info": {
   "codemirror_mode": {
    "name": "ipython",
    "version": 3
   },
   "file_extension": ".py",
   "mimetype": "text/x-python",
   "name": "python",
   "nbconvert_exporter": "python",
   "pygments_lexer": "ipython3",
   "version": "3.6.3"
  }
 },
 "nbformat": 4,
 "nbformat_minor": 4
}
